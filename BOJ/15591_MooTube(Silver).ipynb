{
 "cells": [
  {
   "cell_type": "markdown",
   "metadata": {},
   "source": [
    "# Input"
   ]
  },
  {
   "cell_type": "code",
   "execution_count": 1,
   "metadata": {},
   "outputs": [],
   "source": [
    "input_text = \\\n",
    "'''4 3\n",
    "1 2 3\n",
    "2 3 2\n",
    "2 4 4\n",
    "1 2\n",
    "4 1\n",
    "3 1'''\n",
    "\n",
    "N, Q = int(input_text.split()[0]), int(input_text.split()[1])\n",
    "\n",
    "N_data = [list(map(int, t.split())) for t in input_text.split(\"\\n\")[1:4]]\n",
    "Q_data = [list(map(int, t.split())) for t in input_text.split(\"\\n\")[4:]]"
   ]
  },
  {
   "cell_type": "code",
   "execution_count": null,
   "metadata": {},
   "outputs": [],
   "source": [
    "# 실제 Input\n",
    "import sys\n",
    "N, Q = int(sys.stdin.readline().split()[0]), int(sys.stdin.readline().split()[1])\n",
    "\n",
    "N_data = []\n",
    "for _ in range(N):\n",
    "    N_data.append(list(map(int, sys.stdin.readline().split())))\n",
    "\n",
    "Q_data = []\n",
    "for _ in range(Q):\n",
    "    Q_data.append(list(map(int, sys.stdin.readline().split())))"
   ]
  },
  {
   "cell_type": "markdown",
   "metadata": {},
   "source": [
    "# 코드 구현"
   ]
  },
  {
   "cell_type": "code",
   "execution_count": 4,
   "metadata": {},
   "outputs": [
    {
     "data": {
      "text/plain": [
       "[[0, 1, 0, 0], [1, 0, 1, 1], [0, 1, 0, 0], [0, 1, 0, 0]]"
      ]
     },
     "execution_count": 4,
     "metadata": {},
     "output_type": "execute_result"
    }
   ],
   "source": [
    "def dfs(k, v):\n",
    "    visited = [False] * (n + 1)\n",
    "    need_visit = [[v, 1000000000]]\n",
    "\n",
    "    while need_visit:\n",
    "        cv, usado = need_visit.pop()\n",
    "        if not visited[cv] and usado >= k:\n",
    "            visited[cv] = True\n",
    "            need_visit.extend(videos[cv])\n",
    "\n",
    "    count = visited.count(True)\n",
    "    return count - 1\n",
    "\n",
    "n, q = map(int, sys.stdin.readline().split())\n",
    "videos = dict()\n",
    "\n",
    "for _ in range(n-1):\n",
    "    a, b, r = map(int, sys.stdin.readline().split())\n",
    "    if a in videos.keys():\n",
    "        videos[a].append([b, r])\n",
    "    else:\n",
    "        videos[a] = [[b, r]]\n",
    "\n",
    "    if b in videos.keys():\n",
    "        videos[b].append([a, r])\n",
    "    else:\n",
    "        videos[b] = [[a, r]]\n",
    "\n",
    "answer = []\n",
    "for _ in range(q):\n",
    "    k, v = map(int, sys.stdin.readline().split())\n",
    "    answer.append(dfs(k, v))\n",
    "\n",
    "# 결과 출력\n",
    "print('\\n'.join(map(str, answer)))"
   ]
  }
 ],
 "metadata": {
  "interpreter": {
   "hash": "df4b76dad3d6f3b6e703153c2ee59f6c505ed9fc4cfaf77bba094dda2dd02506"
  },
  "kernelspec": {
   "display_name": "Python 3.9.9 64-bit ('py39': venv)",
   "language": "python",
   "name": "python3"
  },
  "language_info": {
   "codemirror_mode": {
    "name": "ipython",
    "version": 3
   },
   "file_extension": ".py",
   "mimetype": "text/x-python",
   "name": "python",
   "nbconvert_exporter": "python",
   "pygments_lexer": "ipython3",
   "version": "3.9.9"
  },
  "orig_nbformat": 4
 },
 "nbformat": 4,
 "nbformat_minor": 2
}
