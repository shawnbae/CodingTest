{
 "cells": [
  {
   "cell_type": "markdown",
   "metadata": {},
   "source": [
    "# Input"
   ]
  },
  {
   "cell_type": "code",
   "execution_count": 40,
   "metadata": {},
   "outputs": [],
   "source": [
    "input_text = \\\n",
    "'''4 3\n",
    "1 2 3\n",
    "2 3 2\n",
    "2 4 4\n",
    "1 2\n",
    "4 1\n",
    "3 1'''\n",
    "\n",
    "N, Q = int(input_text.split()[0]), int(input_text.split()[1])\n",
    "\n",
    "N_data = [list(map(int, t.split())) for t in input_text.split(\"\\n\")[1:4]]\n",
    "Q_data = [list(map(int, t.split())) for t in input_text.split(\"\\n\")[4:]]"
   ]
  },
  {
   "cell_type": "code",
   "execution_count": null,
   "metadata": {},
   "outputs": [],
   "source": [
    "import sys\n",
    "N, Q = int(sys.stdin.readline().split()[0]), int(sys.stdin.readline().split()[1])\n",
    "\n",
    "N_data = []\n",
    "for _ in range(N):\n",
    "    N_data.append(list(map(int, sys.stdin.readline().split())))\n",
    "\n",
    "Q_data = []\n",
    "for _ in range(Q):\n",
    "    Q_data.append(list(map(int, sys.stdin.readline().split())))"
   ]
  },
  {
   "cell_type": "markdown",
   "metadata": {},
   "source": [
    "# 코드 구현"
   ]
  },
  {
   "cell_type": "code",
   "execution_count": 46,
   "metadata": {},
   "outputs": [
    {
     "name": "stdout",
     "output_type": "stream",
     "text": [
      "[[0, 0, 0, 0], [0, 0, 0, 0], [0, 0, 0, 0], [0, 0, 0, 0]]\n"
     ]
    }
   ],
   "source": [
    "from collections import Counter\n",
    "\n",
    "adj_mat = [[0 for _ in range(N)] for _ in range(N)]\n",
    "print(adj_mat)"
   ]
  },
  {
   "cell_type": "code",
   "execution_count": 54,
   "metadata": {},
   "outputs": [
    {
     "data": {
      "text/plain": [
       "[[0, 1, 0, 0], [1, 0, 1, 1], [0, 1, 0, 0], [0, 1, 0, 0]]"
      ]
     },
     "execution_count": 54,
     "metadata": {},
     "output_type": "execute_result"
    }
   ],
   "source": [
    "for n in N_data:\n",
    "    adj_mat[n[0]-1][n[1]-1] = 1\n",
    "    adj_mat[n[1]-1][n[0]-1] = 1\n",
    "\n",
    "adj_mat"
   ]
  },
  {
   "cell_type": "code",
   "execution_count": 56,
   "metadata": {},
   "outputs": [
    {
     "name": "stdout",
     "output_type": "stream",
     "text": [
      "1\n",
      "1\n",
      "0\n"
     ]
    }
   ],
   "source": [
    "for i in range(4):\n",
    "    for j in range(4):\n",
    "        if i+1 == j:\n",
    "            print(adj_mat[i][j])"
   ]
  },
  {
   "cell_type": "code",
   "execution_count": null,
   "metadata": {},
   "outputs": [],
   "source": []
  }
 ],
 "metadata": {
  "interpreter": {
   "hash": "df4b76dad3d6f3b6e703153c2ee59f6c505ed9fc4cfaf77bba094dda2dd02506"
  },
  "kernelspec": {
   "display_name": "Python 3.9.9 64-bit ('py39': venv)",
   "language": "python",
   "name": "python3"
  },
  "language_info": {
   "codemirror_mode": {
    "name": "ipython",
    "version": 3
   },
   "file_extension": ".py",
   "mimetype": "text/x-python",
   "name": "python",
   "nbconvert_exporter": "python",
   "pygments_lexer": "ipython3",
   "version": "3.9.9"
  },
  "orig_nbformat": 4
 },
 "nbformat": 4,
 "nbformat_minor": 2
}
